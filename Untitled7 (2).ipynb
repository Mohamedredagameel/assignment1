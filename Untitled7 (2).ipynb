


1. Write a Python program to add an item to a tuple




{
 "cells": [
  {
   "cell_type": "code",
   "execution_count": 34,
   "id": "af04f8c8",
   "metadata": {},
   "outputs": [
    {
     "name": "stdout",
     "output_type": "stream",
     "text": [
      "(1, 2, 3, 4)\n"
     ]
    }
   ],
   "source": [
    "def add_item_to_tuple(tuple_var, item):\n",
    "    new_tuple = tuple_var + (item,)\n",
    "    return new_tuple\n",
    "my_tuple = (1, 2, 3)\n",
    "new_item = 4\n",
    "updated_tuple = add_item_to_tuple(my_tuple, new_item)\n",
    "print(updated_tuple)"
   ]
  },


Write a Python program to sum all the items in a list.
  {
   "cell_type": "code",
   "execution_count": 5,
   "id": "8e0b4dde",
   "metadata": {},
   "outputs": [
    {
     "name": "stdout",
     "output_type": "stream",
     "text": [
      "The sum of the list items is: 15\n"
     ]
    }
   ],
   "source": [
    "def sum_list_items(lst):\n",
    "    total = 0\n",
    "    for item in lst:\n",
    "        total += item\n",
    "    return total\n",
    "my_list = [1, 2, 3, 4, 5]\n",
    "result = sum_list_items(my_list)\n",
    "print(\"The sum of the list items is:\", result)"
   ]
  },


3. Write a Python program to multiply all the items in a list.


  {
   "cell_type": "code",
   "execution_count": 6,
   "id": "3483f584",
   "metadata": {},
   "outputs": [
    {
     "name": "stdout",
     "output_type": "stream",
     "text": [
      "The multiplication of the list items is: 120\n"
     ]
    }
   ],
   "source": [
    "def multiply_list_items(lst):\n",
    "    result = 1\n",
    "    for item in lst:\n",
    "        result *= item\n",
    "    return result\n",
    "my_list = [1, 2, 3, 4, 5]\n",
    "result = multiply_list_items(my_list)\n",
    "print(\"The multiplication of the list items is:\", result)"
   ]
  },


4. Write a Python program to get the smallest number from a list.

  {
   "cell_type": "code",
   "execution_count": 7,
   "id": "cc2abb30",
   "metadata": {},
   "outputs": [
    {
     "name": "stdout",
     "output_type": "stream",
     "text": [
      "The smallest number is: 1\n"
     ]
    }
   ],
   "source": [
    "def get_smallest_number(numbers):\n",
    "    if not numbers:\n",
    "        return None  \n",
    "        \n",
    "    smallest = numbers[0]\n",
    "    \n",
    "    for num in numbers:\n",
    "        if num < smallest:\n",
    "            smallest = num\n",
    "    \n",
    "    return smallest\n",
    "my_list = [5, 2, 9, 1, 7]\n",
    "smallest_num = get_smallest_number(my_list)\n",
    "print(\"The smallest number is:\", smallest_num)"
   ]
  },

6. Write a Python program to count the number of strings from a given list of string

  {
   "cell_type": "code",
   "execution_count": 13,
   "id": "596afed4",
   "metadata": {},
   "outputs": [
    {
     "name": "stdout",
     "output_type": "stream",
     "text": [
      "The number of strings in the list is: 4\n"
     ]
    }
   ],
   "source": [
    "def count_strings(string_list):\n",
    "    count = 0\n",
    "\n",
    "    for item in string_list:\n",
    "        if isinstance(item, str):\n",
    "            count += 1\n",
    "\n",
    "    return count\n",
    "\n",
    "my_list = [12, \"apple\", \"banana\", 45, \"cat\", \"dog\"]\n",
    "string_count = count_strings(my_list)\n",
    "print(\"The number of strings in the list is:\", string_count)"
   ]
  },
 

7. Write a Python program to clone or copy a list

 {
   "cell_type": "code",
   "execution_count": 14,
   "id": "570b453a",
   "metadata": {},
   "outputs": [
    {
     "name": "stdout",
     "output_type": "stream",
     "text": [
      "Original list: [1, 2, 3, 4, 5]\n",
      "Cloned list: [1, 2, 3, 4, 5]\n"
     ]
    }
   ],
   "source": [
    "def clone_list(input_list):\n",
    "    return input_list.copy()\n",
    "\n",
    "my_list = [1, 2, 3, 4, 5]\n",
    "cloned_list = clone_list(my_list)\n",
    "print(\"Original list:\", my_list)\n",
    "print(\"Cloned list:\", cloned_list)"
   ]
  },
 

8. Write a Python program to remove item(s) from a given set.

 {
   "cell_type": "code",
   "execution_count": 15,
   "id": "2d11acdf",
   "metadata": {},
   "outputs": [
    {
     "name": "stdout",
     "output_type": "stream",
     "text": [
      "Updated set: {1, 2, 5}\n"
     ]
    }
   ],
   "source": [
    "def remove_items(input_set, items):\n",
    "    input_set.difference_update(items)\n",
    "\n",
    "my_set = {1, 2, 3, 4, 5}\n",
    "items_to_remove = {3, 4}\n",
    "remove_items(my_set, items_to_remove)\n",
    "print(\"Updated set:\", my_set)"
   ]
  9. Write a Python program to check if a set is a subset of another set
 

 {
   "cell_type": "code",
   "execution_count": 18,
   "id": "58e4fa54",
   "metadata": {},
   "outputs": [
    {
     "name": "stdout",
     "output_type": "stream",
     "text": [
      "True\n",
      "False\n"
     ]
    }
   ],
   "source": [
    "def is_subset(set1, set2):\n",
    "    return set1.issubset(set2)\n",
    "\n",
    "\n",
    "set1 = {1, 2, 3}\n",
    "set2 = {1, 2, 3, 4, 5}\n",
    "print(is_subset(set1, set2))  \n",
    "\n",
    "set3 = {4, 5, 6}\n",
    "set4 = {1, 2, 3}\n",
    "print(is_subset(set3, set4))"
   ]
  },
 
10. Write a Python program to remove all elements from a given set


 {
   "cell_type": "code",
   "execution_count": 20,
   "id": "3b77c2db",
   "metadata": {},
   "outputs": [
    {
     "name": "stdout",
     "output_type": "stream",
     "text": [
      "set()\n"
     ]
    }
   ],
   "source": [
    "def remove_all_elements(my_set):\n",
    "    my_set.clear()\n",
    "\n",
    "my_set = {1, 2, 3, 4, 5}\n",
    "remove_all_elements(my_set)\n",
    "print(my_set) "
   ]
  },
 
11. Write a Python program to find the maximum and minimum values in a set.

 {
   "cell_type": "code",
   "execution_count": 21,
   "id": "6a35da6b",
   "metadata": {},
   "outputs": [
    {
     "name": "stdout",
     "output_type": "stream",
     "text": [
      "Maximum value: 9\n",
      "Minimum value: 1\n",
      "Maximum value: None\n",
      "Minimum value: None\n"
     ]
    }
   ],
   "source": [
    "def find_max_min_values(my_set):\n",
    "    if len(my_set) == 0:\n",
    "        return None, None\n",
    "\n",
    "    max_value = max(my_set)\n",
    "    min_value = min(my_set)\n",
    "\n",
    "    return max_value, min_value\n",
    "\n",
    "my_set = {5, 2, 9, 1, 7}\n",
    "max_value, min_value = find_max_min_values(my_set)\n",
    "print(\"Maximum value:\", max_value)  \n",
    "print(\"Minimum value:\", min_value) \n",
    "\n",
    "empty_set = set()\n",
    "max_value, min_value = find_max_min_values(empty_set)\n",
    "print(\"Maximum value:\", max_value)  \n",
    "print(\"Minimum value:\", min_value)  "
   ]
  },
 
12. Write a Python program to find the index of an item in a tuple
 {
   "cell_type": "code",
   "execution_count": 22,
   "id": "6b900889",
   "metadata": {},
   "outputs": [
    {
     "name": "stdout",
     "output_type": "stream",
     "text": [
      "Index of 30: 2\n"
     ]
    }
   ],
   "source": [
    "def find_index(my_tuple, item):\n",
    "    try:\n",
    "        index = my_tuple.index(item)\n",
    "        return index\n",
    "    except ValueError:\n",
    "        return -1\n",
    "\n",
    "my_tuple = (10, 20, 30, 40, 50)\n",
    "item = 30\n",
    "index = find_index(my_tuple, item)\n",
    "\n",
    "if index != -1:\n",
    "    print(f\"Index of {item}: {index}\") \n",
    "else:\n",
    "    print(f\"{item} not found in the tuple.\")"
   ]
  },
 13. Write a Python program to convert a tuple to a dictionary.

 {
   "cell_type": "code",
   "execution_count": 23,
   "id": "77c3bec3",
   "metadata": {},
   "outputs": [
    {
     "name": "stdout",
     "output_type": "stream",
     "text": [
      "{'a': 1, 'b': 2, 'c': 3}\n"
     ]
    }
   ],
   "source": [
    "def tuple_to_dictionary(my_tuple):\n",
    "    dictionary = dict(my_tuple)\n",
    "    return dictionary\n",
    "my_tuple = ((\"a\", 1), (\"b\", 2), (\"c\", 3))\n",
    "my_dictionary = tuple_to_dictionary(my_tuple)\n",
    "print(my_dictionary)  "
   ]
  },
 


14. Write a Python program to unzip a list of tuples into individual lists.

 {
   "cell_type": "code",
   "execution_count": 24,
   "id": "310359b5",
   "metadata": {},
   "outputs": [
    {
     "name": "stdout",
     "output_type": "stream",
     "text": [
      "[[1, 2, 3], ['a', 'b', 'c']]\n"
     ]
    }
   ],
   "source": [
    "def unzip_list_of_tuples(list_of_tuples):\n",
    "    unzipped_lists = zip(*list_of_tuples)\n",
    "    return [list(x) for x in unzipped_lists]\n",
    "\n",
    "list_of_tuples = [(1, 'a'), (2, 'b'), (3, 'c')]\n",
    "unzipped_lists = unzip_list_of_tuples(list_of_tuples)\n",
    "print(unzipped_lists)\n"
   ]
  },
 
15. Write a Python program to reverse a tuple.

 {
   "cell_type": "code",
   "execution_count": 25,
   "id": "5a7947b4",
   "metadata": {},
   "outputs": [
    {
     "name": "stdout",
     "output_type": "stream",
     "text": [
      "(5, 4, 3, 2, 1)\n"
     ]
    }
   ],
   "source": [
    "def reverse_tuple(my_tuple):\n",
    "    reversed_tuple = my_tuple[::-1]\n",
    "    return reversed_tuple\n",
    "\n",
    "my_tuple = (1, 2, 3, 4, 5)\n",
    "reversed_tuple = reverse_tuple(my_tuple)\n",
    "print(reversed_tuple) "
   ]
  },
 
16. Write a Python program to convert a list of tuples into a dictionary.
 {
   "cell_type": "code",
   "execution_count": 26,
   "id": "045f4538",
   "metadata": {},
   "outputs": [
    {
     "name": "stdout",
     "output_type": "stream",
     "text": [
      "{'a': 1, 'b': 2, 'c': 3}\n"
     ]
    }
   ],
   "source": [
    "def list_of_tuples_to_dictionary(list_of_tuples):\n",
    "    dictionary = dict(list_of_tuples)\n",
    "    return dictionary\n",
    "\n",
    "list_of_tuples = [(\"a\", 1), (\"b\", 2), (\"c\", 3)]\n",
    "my_dictionary = list_of_tuples_to_dictionary(list_of_tuples)\n",
    "print(my_dictionary)\n"
   ]
  },


17. Write a Python program to replace the last value of tuples in a list.
Sample list: [(10, 20, 40), (40, 50, 60), (70, 80, 90)] Expected Output: [(10, 20, 100), (40, 50, 100), (70, 80, 100)]

  {
   "cell_type": "code",
   "execution_count": 27,
   "id": "2da3120f",
   "metadata": {},
   "outputs": [
    {
     "name": "stdout",
     "output_type": "stream",
     "text": [
      "[(10, 20, 100), (40, 50, 100), (70, 80, 100)]\n"
     ]
    }
   ],
   "source": [
    "def replace_last_value(list_of_tuples, new_value):\n",
    "    modified_list = []\n",
    "    for tup in list_of_tuples:\n",
    "        modified_tuple = tup[:-1] + (new_value,)\n",
    "        modified_list.append(modified_tuple)\n",
    "    return modified_list\n",
    "\n",
    "list_of_tuples = [(10, 20, 40), (40, 50, 60), (70, 80, 90)]\n",
    "new_value = 100\n",
    "modified_list = replace_last_value(list_of_tuples, new_value)\n",
    "print(modified_list)\n"
   ]
  },
18. Write a Python program to sort a tuple by its float element.


  {
   "cell_type": "code",
   "execution_count": 30,
   "id": "8c8f040e",
   "metadata": {},
   "outputs": [
    {
     "name": "stdout",
     "output_type": "stream",
     "text": [
      "[('B', 1.2), ('C', 2.7), ('A', 3.5)]\n"
     ]
    }
   ],
   "source": [
    "def sort_tuple_by_float_element(my_tuple):\n",
    "    sorted_tuple = sorted(my_tuple, key=lambda x: x[1])\n",
    "    return sorted_tuple\n",
    "\n",
    "my_tuple = ((\"A\", 3.5), (\"B\", 1.2), (\"C\", 2.7))\n",
    "sorted_tuple = sort_tuple_by_float_element(my_tuple)\n",
    "print(sorted_tuple)\n"
   ]
  },
  {
   "cell_type": "code",
   "execution_count": null,
   "id": "e45e0c17",
   "metadata": {},
   "outputs": [],
   "source": []
  }
 ],
 "metadata": {
  "kernelspec": {
   "display_name": "Python 3 (ipykernel)",
   "language": "python",
   "name": "python3"
  },
  "language_info": {
   "codemirror_mode": {
    "name": "ipython",
    "version": 3
   },
   "file_extension": ".py",
   "mimetype": "text/x-python",
   "name": "python",
   "nbconvert_exporter": "python",
   "pygments_lexer": "ipython3",
   "version": "3.11.4"
  }
 },
 "nbformat": 4,
 "nbformat_minor": 5
}

